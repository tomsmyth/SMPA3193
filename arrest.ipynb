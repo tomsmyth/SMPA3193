{
 "cells": [
  {
   "cell_type": "code",
   "execution_count": 34,
   "metadata": {
    "collapsed": false
   },
   "outputs": [
    {
     "name": "stdout",
     "output_type": "stream",
     "text": [
      "| column         | data_type |\n",
      "| -------------- | --------- |\n",
      "| LName          | Text      |\n",
      "| FName          | Text      |\n",
      "| MName          | Text      |\n",
      "| Age            | Number    |\n",
      "| DateArr        | Date      |\n",
      "| Charge         | Text      |\n",
      "| Charge Descrip | Text      |\n",
      "| Address        | Text      |\n",
      "\n",
      "| column         | data_type |\n",
      "| -------------- | --------- |\n",
      "| Charge Descrip | Text      |\n",
      "\n"
     ]
    }
   ],
   "source": [
    "import agate\n",
    "table = agate.Table.from_csv(\"arrest.csv\")\n",
    "print table\n",
    "include_columns = ['Charge Descrip']\n",
    "new_table = table.select(include_columns)\n",
    "exclude_columns = ['LName', 'FName', 'MName', 'Age', 'DateArr','Charge', 'Address']\n",
    "new_table = table.exclude(exclude_columns)\n",
    "print new_table"
   ]
  }
 ],
 "metadata": {
  "kernelspec": {
   "display_name": "Python 2",
   "language": "python",
   "name": "python2"
  },
  "language_info": {
   "codemirror_mode": {
    "name": "ipython",
    "version": 2
   },
   "file_extension": ".py",
   "mimetype": "text/x-python",
   "name": "python",
   "nbconvert_exporter": "python",
   "pygments_lexer": "ipython2",
   "version": "2.7.10"
  }
 },
 "nbformat": 4,
 "nbformat_minor": 2
}
